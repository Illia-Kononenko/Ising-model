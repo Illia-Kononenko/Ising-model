{
 "cells": [
  {
   "cell_type": "code",
   "execution_count": 2,
   "id": "8b909089",
   "metadata": {},
   "outputs": [
    {
     "name": "stdout",
     "output_type": "stream",
     "text": [
      "energy, analytical solution -11999.999999093967\n",
      "energy, simulation -11411.67\n",
      "magnetization, simulation 800\n",
      "magnetization, analytical solution 999.9999999999999\n"
     ]
    }
   ],
   "source": [
    "import math\n",
    "import numpy as np\n",
    "import random\n",
    "Boltzmann=1\n",
    "J=12\n",
    "N=1000\n",
    "T=1\n",
    "B=1\n",
    "magneton=0.33\n",
    "U=-J*N*math.tanh(J/(Boltzmann*T))\n",
    "print('energy, analytical solution',U)\n",
    "teta=T*Boltzmann\n",
    "M=N*math.exp(J/teta)*math.sinh(B/teta)/math.sqrt(math.exp(2*J/teta)*math.sinh(B/teta)**2+math.exp(-2*J/teta))\n",
    "spin=[-1,1]\n",
    "system=np.random.choice(spin, size=(N))\n",
    "system=system.tolist()\n",
    "def E(system):\n",
    "    EN=0\n",
    "    ES=0\n",
    "    for i in range(len(system)-1):\n",
    "        EN=EN+system[i]*system[i+1]\n",
    "        ES=ES+system[i+1]\n",
    "    return -J*EN-B*magneton*ES\n",
    "for i in range(10000):\n",
    "    x=random.randrange(len(system)-1)\n",
    "    new_system=system.copy()\n",
    "    pop=new_system.pop(x)*-1\n",
    "    new_system.insert(x, pop)\n",
    "    if E(new_system)<=E(system):\n",
    "        system=new_system\n",
    "    else:\n",
    "        rand=random.random()\n",
    "        w=math.exp(-(E(new_system)-E(system))/(Boltzmann*T))\n",
    "        if w>=rand:\n",
    "            system=new_system\n",
    "        else:    \n",
    "            continue\n",
    "print('energy, simulation',E(system))\n",
    "print('magnetization, simulation',sum(system))\n",
    "print('magnetization, analytical solution',M)"
   ]
  },
  {
   "cell_type": "code",
   "execution_count": null,
   "id": "cfec2353",
   "metadata": {},
   "outputs": [],
   "source": []
  }
 ],
 "metadata": {
  "kernelspec": {
   "display_name": "Python 3 (ipykernel)",
   "language": "python",
   "name": "python3"
  },
  "language_info": {
   "codemirror_mode": {
    "name": "ipython",
    "version": 3
   },
   "file_extension": ".py",
   "mimetype": "text/x-python",
   "name": "python",
   "nbconvert_exporter": "python",
   "pygments_lexer": "ipython3",
   "version": "3.9.12"
  }
 },
 "nbformat": 4,
 "nbformat_minor": 5
}
